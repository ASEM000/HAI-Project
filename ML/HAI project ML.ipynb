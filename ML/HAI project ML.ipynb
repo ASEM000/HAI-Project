{
 "cells": [
  {
   "cell_type": "code",
   "execution_count": 1,
   "metadata": {
    "collapsed": true
   },
   "outputs": [
    {
     "name": "stdout",
     "output_type": "stream",
     "text": [
      "Collecting opencv-python\n",
      "  Downloading opencv_python-4.4.0.46-cp36-cp36m-manylinux2014_x86_64.whl (49.5 MB)\n",
      "\u001b[K     |████████████████████████████████| 49.5 MB 17.4 MB/s eta 0:00:01\n",
      "\u001b[?25hRequirement already satisfied: numpy>=1.13.3 in /usr/local/lib/python3.6/dist-packages (from opencv-python) (1.19.4)\n",
      "Installing collected packages: opencv-python\n",
      "Successfully installed opencv-python-4.4.0.46\n",
      "Collecting matplotlib\n",
      "  Downloading matplotlib-3.3.3-cp36-cp36m-manylinux1_x86_64.whl (11.6 MB)\n",
      "\u001b[K     |████████████████████████████████| 11.6 MB 4.1 MB/s eta 0:00:01    |█████████████████               | 6.2 MB 4.1 MB/s eta 0:00:02\n",
      "\u001b[?25hRequirement already satisfied: numpy>=1.15 in /usr/local/lib/python3.6/dist-packages (from matplotlib) (1.19.4)\n",
      "Collecting kiwisolver>=1.0.1\n",
      "  Downloading kiwisolver-1.3.1-cp36-cp36m-manylinux1_x86_64.whl (1.1 MB)\n",
      "\u001b[K     |████████████████████████████████| 1.1 MB 22.9 MB/s eta 0:00:01\n",
      "\u001b[?25hRequirement already satisfied: pyparsing!=2.0.4,!=2.1.2,!=2.1.6,>=2.0.3 in /usr/local/lib/python3.6/dist-packages (from matplotlib) (2.4.7)\n",
      "Requirement already satisfied: python-dateutil>=2.1 in /usr/local/lib/python3.6/dist-packages (from matplotlib) (2.8.1)\n",
      "Collecting cycler>=0.10\n",
      "  Downloading cycler-0.10.0-py2.py3-none-any.whl (6.5 kB)\n",
      "Collecting pillow>=6.2.0\n",
      "  Downloading Pillow-8.0.1-cp36-cp36m-manylinux1_x86_64.whl (2.2 MB)\n",
      "\u001b[K     |████████████████████████████████| 2.2 MB 24.6 MB/s eta 0:00:01\n",
      "\u001b[?25hRequirement already satisfied: six>=1.5 in /usr/local/lib/python3.6/dist-packages (from python-dateutil>=2.1->matplotlib) (1.15.0)\n",
      "Installing collected packages: kiwisolver, cycler, pillow, matplotlib\n",
      "Successfully installed cycler-0.10.0 kiwisolver-1.3.1 matplotlib-3.3.3 pillow-8.0.1\n",
      "Requirement already satisfied: numpy in /usr/local/lib/python3.6/dist-packages (1.19.4)\n",
      "Collecting sklearn\n",
      "  Downloading sklearn-0.0.tar.gz (1.1 kB)\n",
      "Collecting scikit-learn\n",
      "  Downloading scikit_learn-0.23.2-cp36-cp36m-manylinux1_x86_64.whl (6.8 MB)\n",
      "\u001b[K     |████████████████████████████████| 6.8 MB 4.5 MB/s eta 0:00:01\n",
      "\u001b[?25hCollecting threadpoolctl>=2.0.0\n",
      "  Downloading threadpoolctl-2.1.0-py3-none-any.whl (12 kB)\n",
      "Collecting joblib>=0.11\n",
      "  Downloading joblib-0.17.0-py3-none-any.whl (301 kB)\n",
      "\u001b[K     |████████████████████████████████| 301 kB 18.0 MB/s eta 0:00:01\n",
      "\u001b[?25hRequirement already satisfied: numpy>=1.13.3 in /usr/local/lib/python3.6/dist-packages (from scikit-learn->sklearn) (1.19.4)\n",
      "Collecting scipy>=0.19.1\n",
      "  Downloading scipy-1.5.4-cp36-cp36m-manylinux1_x86_64.whl (25.9 MB)\n",
      "\u001b[K     |████████████████████████████████| 25.9 MB 11.9 MB/s eta 0:00:01\n",
      "\u001b[?25hBuilding wheels for collected packages: sklearn\n",
      "  Building wheel for sklearn (setup.py) ... \u001b[?25ldone\n",
      "\u001b[?25h  Created wheel for sklearn: filename=sklearn-0.0-py2.py3-none-any.whl size=1316 sha256=aa3b49c1e9db054358d1b9a14a5269d26e524d1a5d88bd0eb360200606595759\n",
      "  Stored in directory: /root/.cache/pip/wheels/23/9d/42/5ec745cbbb17517000a53cecc49d6a865450d1f5cb16dc8a9c\n",
      "Successfully built sklearn\n",
      "Installing collected packages: threadpoolctl, joblib, scipy, scikit-learn, sklearn\n",
      "Successfully installed joblib-0.17.0 scikit-learn-0.23.2 scipy-1.5.4 sklearn-0.0 threadpoolctl-2.1.0\n",
      "Collecting mediapipe\n",
      "  Downloading mediapipe-0.8.0-cp36-cp36m-manylinux2014_x86_64.whl (34.5 MB)\n",
      "\u001b[K     |████████████████████████████████| 34.5 MB 7.7 MB/s eta 0:00:012     |██████████████████              | 19.4 MB 10.3 MB/s eta 0:00:02\n",
      "\u001b[?25hRequirement already satisfied: six in /usr/local/lib/python3.6/dist-packages (from mediapipe) (1.15.0)\n",
      "Requirement already satisfied: numpy in /usr/local/lib/python3.6/dist-packages (from mediapipe) (1.19.4)\n",
      "Requirement already satisfied: wheel in /usr/local/lib/python3.6/dist-packages (from mediapipe) (0.35.1)\n",
      "Collecting opencv-python<4.0.0,>=3.4.0\n",
      "  Downloading opencv_python-3.4.11.45-cp36-cp36m-manylinux2014_x86_64.whl (49.1 MB)\n",
      "\u001b[K     |████████████████████████████████| 49.1 MB 9.7 MB/s eta 0:00:01\n",
      "\u001b[?25hCollecting dataclasses\n",
      "  Downloading dataclasses-0.8-py3-none-any.whl (19 kB)\n",
      "Requirement already satisfied: absl-py in /usr/local/lib/python3.6/dist-packages (from mediapipe) (0.11.0)\n",
      "Requirement already satisfied: protobuf>=3.11.4 in /usr/local/lib/python3.6/dist-packages (from mediapipe) (3.13.0)\n",
      "Requirement already satisfied: setuptools in /usr/local/lib/python3.6/dist-packages (from protobuf>=3.11.4->mediapipe) (50.3.2)\n",
      "Installing collected packages: opencv-python, dataclasses, mediapipe\n",
      "  Attempting uninstall: opencv-python\n",
      "    Found existing installation: opencv-python 4.4.0.46\n",
      "    Uninstalling opencv-python-4.4.0.46:\n",
      "      Successfully uninstalled opencv-python-4.4.0.46\n",
      "Successfully installed dataclasses-0.8 mediapipe-0.8.0 opencv-python-3.4.11.45\n",
      "Collecting numba\n",
      "  Downloading numba-0.51.2-cp36-cp36m-manylinux2014_x86_64.whl (3.1 MB)\n",
      "\u001b[K     |████████████████████████████████| 3.1 MB 4.4 MB/s eta 0:00:01\n",
      "\u001b[?25hRequirement already satisfied: setuptools in /usr/local/lib/python3.6/dist-packages (from numba) (50.3.2)\n",
      "Collecting llvmlite<0.35,>=0.34.0.dev0\n",
      "  Downloading llvmlite-0.34.0-cp36-cp36m-manylinux2010_x86_64.whl (24.6 MB)\n",
      "\u001b[K     |████████████████████████████████| 24.6 MB 13.1 MB/s eta 0:00:01     |███████████████▊                | 12.1 MB 24.6 MB/s eta 0:00:01\n",
      "\u001b[?25hRequirement already satisfied: numpy>=1.15 in /usr/local/lib/python3.6/dist-packages (from numba) (1.19.4)\n",
      "Installing collected packages: llvmlite, numba\n",
      "Successfully installed llvmlite-0.34.0 numba-0.51.2\n",
      "Collecting tqdm\n",
      "  Downloading tqdm-4.54.0-py2.py3-none-any.whl (69 kB)\n",
      "\u001b[K     |████████████████████████████████| 69 kB 2.9 MB/s eta 0:00:011\n",
      "\u001b[?25hInstalling collected packages: tqdm\n",
      "Successfully installed tqdm-4.54.0\n"
     ]
    }
   ],
   "source": [
    "!pip install opencv-python\n",
    "!pip install matplotlib\n",
    "!pip install numpy\n",
    "!pip install sklearn\n",
    "!pip install mediapipe\n",
    "!pip install numba\n",
    "!pip install tqdm\n",
    "apt install libgl1-mesa-glx"
   ]
  },
  {
   "cell_type": "markdown",
   "metadata": {},
   "source": [
    "# Imports "
   ]
  },
  {
   "cell_type": "code",
   "execution_count": 3,
   "metadata": {},
   "outputs": [],
   "source": [
    "import numpy as np\n",
    "from datetime import date\n",
    "import tensorflow as tf\n",
    "import math\n",
    "import sklearn\n",
    "import os\n",
    "import cv2\n",
    "import matplotlib.pyplot as plt\n",
    "import sklearn.metrics\n",
    "from tqdm.notebook import tqdm\n",
    "from tensorflow.keras.preprocessing.image import ImageDataGenerator \n",
    "import dlib"
   ]
  },
  {
   "cell_type": "markdown",
   "metadata": {},
   "source": [
    "## Utils "
   ]
  },
  {
   "cell_type": "code",
   "execution_count": 4,
   "metadata": {},
   "outputs": [],
   "source": [
    "def image_to_face_landmarks(image):\n",
    "    mp_drawing = mp.solutions.drawing_utils\n",
    "    mp_face_mesh = mp.solutions.face_mesh\n",
    "    face_mesh = mp_face_mesh.FaceMesh(static_image_mode=True,max_num_faces=1,min_detection_confidence=0.001)\n",
    "    drawing_spec = mp_drawing.DrawingSpec(thickness=1, circle_radius=2)\n",
    "    results = face_mesh.process(cv2.cvtColor(image, cv2.COLOR_BGR2RGB))\n",
    "    annotated_image = image.copy()\n",
    "#     print(results.multi_face_landmarks)\n",
    "    for face_landmarks in results.multi_face_landmarks:\n",
    "        mp_drawing.draw_landmarks(image=annotated_image,landmark_list=face_landmarks,connections=mp_face_mesh.FACE_CONNECTIONS,landmark_drawing_spec=drawing_spec,connection_drawing_spec=drawing_spec)\n",
    "    face_mesh.close()\n",
    "    return annotated_image,face_landmarks.landmark\n",
    "\n",
    "# annotated_image,landmarks = image_to_face_landmarks(cv2.imread('FER//validation//ang//0.jpg'))\n",
    "\n",
    "def face_landmarks_to_euclid_image(face_landmarks):\n",
    "    temp = np.zeros((468,2))\n",
    "    for i in range(len(face_landmarks)):\n",
    "        landmark=face_landmarks[i]\n",
    "        temp[i]=np.array([landmark.x,landmark.y])\n",
    "    pairwise = sklearn.metrics.pairwise_distances(temp)\n",
    "    return pairwise\n",
    "\n",
    "# plt.imshow(face_landmarks_to_euclid_image(landmarks))"
   ]
  },
  {
   "cell_type": "code",
   "execution_count": 5,
   "metadata": {},
   "outputs": [],
   "source": [
    "detector = dlib.get_frontal_face_detector()\n",
    "predictor = dlib.shape_predictor('shape_predictor_68_face_landmarks.dat')"
   ]
  },
  {
   "cell_type": "code",
   "execution_count": 130,
   "metadata": {},
   "outputs": [
    {
     "name": "stdout",
     "output_type": "stream",
     "text": [
      "Writing utils.py\n"
     ]
    }
   ],
   "source": [
    "%%writefile utils.py\n",
    "\n",
    "import numpy as np\n",
    "from datetime import date\n",
    "import tensorflow as tf\n",
    "import math\n",
    "import sklearn\n",
    "import os\n",
    "import cv2\n",
    "import matplotlib.pyplot as plt\n",
    "import sklearn.metrics\n",
    "from tqdm.notebook import tqdm\n",
    "from tensorflow.keras.preprocessing.image import ImageDataGenerator \n",
    "import dlib\n",
    "\n",
    "def rect_to_bb(rect):\n",
    "    x=rect.left()\n",
    "    y=rect.top()\n",
    "    w=rect.right()  -x \n",
    "    h=rect.bottom() -y\n",
    "    return (x,y,w,h)\n",
    "\n",
    "def shape_to_numpy(shape,dtype='int'):\n",
    "    coords = np.zeros((68,2) , dtype=dtype)\n",
    "    for i in range(0,68):\n",
    "        coords[i] = (shape.part(i).x,shape.part(i).y)\n",
    "        \n",
    "    return coords\n",
    "\n",
    "def align_face(image,dim,features):\n",
    "    '''\n",
    "    Align face image given features array in shape of 68,2\n",
    "    '''\n",
    "    top_nose  = features[28,:]\n",
    "    left_eye  = features[37:41,:]\n",
    "    right_eye = features[43:46,:]\n",
    "    dx,dy     =  np.mean(right_eye,axis=0).astype('int') - np.mean(left_eye,axis=0).astype('int')\n",
    "    angle     = np.degrees(np.arctan2(dy, dx))\n",
    "    M         = cv2.getRotationMatrix2D((top_nose[0],top_nose[1]), angle, 1)\n",
    "    return  cv2.warpAffine(image, M, dim,flags=cv2.INTER_CUBIC)\n",
    "\n",
    "def image_to_crop_feature(image,dim=(28,28),detector=None,predictor=None):\n",
    "    '''\n",
    "    Input:  image\n",
    "    Output: \n",
    "        1- cropped video numpy array (row,col,channel) , \n",
    "        2- facial features array (68,2,1)\n",
    "    '''\n",
    "    try:\n",
    "        rects = detector(image)\n",
    "    \n",
    "        (x0,y0,w,h)= rect_to_bb(list(rects)[0])\n",
    "    except :\n",
    "        x0,y0,w,h=0,0,image.shape[1],image.shape[0]\n",
    "    crop  = cv2.resize(image[y0:y0+h,x0:x0+h], dim, interpolation = cv2.INTER_AREA)\n",
    "    shape = predictor(crop,dlib.rectangle(left=0, top=0, right=dim[0], bottom=dim[1]))\n",
    "    shape = shape_to_numpy(shape)\n",
    "    crop  = align_face(crop,dim,shape)\n",
    "    shape = predictor(crop,dlib.rectangle(left=0, top=0, right=dim[0], bottom=dim[1]))\n",
    "    shape = shape_to_numpy(shape)    \n",
    "    return  crop,shape.reshape(1,68,2,1)\n",
    "\n",
    "\n",
    "def transform_emotion_to_integer(emotion):\n",
    "    emotions ={'ang': 0, 'dis': 1, 'fea': 2, 'hap': 3, 'neu': 4, 'sad': 5, 'sur': 6}\n",
    "#     emotions = ['hap','sur','fea','neu','sad','dis','ang']\n",
    "    return emotions(emotion)\n",
    "\n",
    "def transform_integer_to_emotion(integer):\n",
    "    emotions = {0: 'ang', 1: 'dis', 2: 'fea', 3: 'hap', 4: 'neu', 5: 'sad', 6: 'sur'}\n",
    "    return emotions[integer]\n",
    "\n",
    "\n",
    "def create_euclid_matrix(array):\n",
    "    '''\n",
    "    Input : (frames,68,2,1) landmark tensor\n",
    "    output : (frames,68,68,1) tensor of pairwise distance\n",
    "    '''\n",
    "    temp =np.zeros((1,array.shape[0],68,68,1))\n",
    "    for fi in range(array.shape[0]):\n",
    "        temp[0,fi,:,:,0] = sklearn.metrics.pairwise_distances(array[fi,:,:,0])\n",
    "    return temp\n",
    "\n",
    "\n",
    "def features_to_image(image,features):\n",
    "    for (x,y) in features[0,:,:,0]:image = cv2.circle(image,(x,y),1,(255,255,255))\n",
    "    return image"
   ]
  },
  {
   "cell_type": "code",
   "execution_count": 90,
   "metadata": {},
   "outputs": [
    {
     "data": {
      "text/plain": [
       "{'ang': 0, 'dis': 1, 'fea': 2, 'hap': 3, 'neu': 4, 'sad': 5, 'sur': 6}"
      ]
     },
     "execution_count": 90,
     "metadata": {},
     "output_type": "execute_result"
    }
   ],
   "source": [
    "train_generator.class_indices"
   ]
  },
  {
   "cell_type": "code",
   "execution_count": 22,
   "metadata": {},
   "outputs": [
    {
     "data": {
      "application/vnd.jupyter.widget-view+json": {
       "model_id": "ea7ac464990e4932b3ca59991f2be051",
       "version_major": 2,
       "version_minor": 0
      },
      "text/plain": [
       "HBox(children=(HTML(value=''), FloatProgress(value=0.0, max=3995.0), HTML(value='')))"
      ]
     },
     "metadata": {},
     "output_type": "display_data"
    },
    {
     "name": "stdout",
     "output_type": "stream",
     "text": [
      "\n"
     ]
    },
    {
     "data": {
      "application/vnd.jupyter.widget-view+json": {
       "model_id": "aaeb49a7dec8497eabe1b55e1bf4c7b0",
       "version_major": 2,
       "version_minor": 0
      },
      "text/plain": [
       "HBox(children=(HTML(value=''), FloatProgress(value=0.0, max=436.0), HTML(value='')))"
      ]
     },
     "metadata": {},
     "output_type": "display_data"
    },
    {
     "name": "stdout",
     "output_type": "stream",
     "text": [
      "\n"
     ]
    },
    {
     "data": {
      "application/vnd.jupyter.widget-view+json": {
       "model_id": "d057edc5296c4803868877cca4b336a8",
       "version_major": 2,
       "version_minor": 0
      },
      "text/plain": [
       "HBox(children=(HTML(value=''), FloatProgress(value=0.0, max=4097.0), HTML(value='')))"
      ]
     },
     "metadata": {},
     "output_type": "display_data"
    },
    {
     "name": "stdout",
     "output_type": "stream",
     "text": [
      "\n"
     ]
    },
    {
     "data": {
      "application/vnd.jupyter.widget-view+json": {
       "model_id": "60bde75d2de24a81bb9fc0b71a7f2090",
       "version_major": 2,
       "version_minor": 0
      },
      "text/plain": [
       "HBox(children=(HTML(value=''), FloatProgress(value=0.0, max=7215.0), HTML(value='')))"
      ]
     },
     "metadata": {},
     "output_type": "display_data"
    },
    {
     "name": "stdout",
     "output_type": "stream",
     "text": [
      "\n"
     ]
    },
    {
     "data": {
      "application/vnd.jupyter.widget-view+json": {
       "model_id": "8a0d8743d1634c0da95104937f237341",
       "version_major": 2,
       "version_minor": 0
      },
      "text/plain": [
       "HBox(children=(HTML(value=''), FloatProgress(value=0.0, max=4965.0), HTML(value='')))"
      ]
     },
     "metadata": {},
     "output_type": "display_data"
    },
    {
     "name": "stdout",
     "output_type": "stream",
     "text": [
      "\n"
     ]
    },
    {
     "data": {
      "application/vnd.jupyter.widget-view+json": {
       "model_id": "847001839dd748c5bb7ac5892df1c1dc",
       "version_major": 2,
       "version_minor": 0
      },
      "text/plain": [
       "HBox(children=(HTML(value=''), FloatProgress(value=0.0, max=4830.0), HTML(value='')))"
      ]
     },
     "metadata": {},
     "output_type": "display_data"
    },
    {
     "name": "stdout",
     "output_type": "stream",
     "text": [
      "\n"
     ]
    },
    {
     "data": {
      "application/vnd.jupyter.widget-view+json": {
       "model_id": "c8b7549dcf2a43788f249cbf90cf98fa",
       "version_major": 2,
       "version_minor": 0
      },
      "text/plain": [
       "HBox(children=(HTML(value=''), FloatProgress(value=0.0, max=3171.0), HTML(value='')))"
      ]
     },
     "metadata": {},
     "output_type": "display_data"
    },
    {
     "name": "stdout",
     "output_type": "stream",
     "text": [
      "\n"
     ]
    }
   ],
   "source": [
    "emos = os.listdir('train')\n",
    "for emo in emos:\n",
    "    files = os.listdir(f'train//{emo}')\n",
    "    for file in tqdm(range(len(files))):\n",
    "        image = cv2.imread(f'train//{emo}//{files[file]}')\n",
    "#         cv2.imshow('text',image);cv2.waitKey(1)\n",
    "    #     try:\n",
    "        crop , features = image_to_crop_feature(image,dim=(68,68),detector=detector,predictor=predictor)\n",
    "        euclid = create_euclid_matrix(features)\n",
    "    #     break\n",
    "        cv2.imwrite(f'train_euc//{emo}/{files[file]}',euclid[0,0,:,:,0])\n",
    "    #     print('done',file,end='\\r')\n",
    "    #     except :\n",
    "    #         print(f'error at {file}',end='\\r')"
   ]
  },
  {
   "cell_type": "markdown",
   "metadata": {},
   "source": [
    "## Model"
   ]
  },
  {
   "cell_type": "code",
   "execution_count": 129,
   "metadata": {},
   "outputs": [
    {
     "name": "stdout",
     "output_type": "stream",
     "text": [
      "Writing model.py\n"
     ]
    }
   ],
   "source": [
    "%%writefile model.py\n",
    "\n",
    "\n",
    "def build_model(shape=(68,68,1)):\n",
    "    '''\n",
    "    '''\n",
    "    input = Input(shape)\n",
    "    x = Conv2D(16,(2,2),padding='same',activation=LeakyReLU())(input)\n",
    "    x = Conv2D(1,(2,2),padding='same',activation=LeakyReLU())(x)\n",
    "    x = Flatten()(x)\n",
    "    x = Dense(2048,activation='linear')(x)\n",
    "    x = Dense(2048,activation='linear')(x)\n",
    "    x = Dense(2048,activation='linear')(x)\n",
    "    x = Dropout(0.25)(x)\n",
    "    output = Dense(7, activation='softmax')(x)\n",
    "    model = Model(input, output)\n",
    "    optimizer = Adam(learning_rate=1e-3)\n",
    "    model.compile(loss='categorical_crossentropy',optimizer=optimizer,metrics=['accuracy'])\n",
    "    return model\n"
   ]
  },
  {
   "cell_type": "markdown",
   "metadata": {},
   "source": [
    "## Callbacks"
   ]
  },
  {
   "cell_type": "code",
   "execution_count": 12,
   "metadata": {},
   "outputs": [],
   "source": [
    "def create_callbacks(filepath_model,monitor='val_accuracy'):\n",
    "    model_checkpoint_callback = tensorflow.keras.callbacks.ModelCheckpoint(filepath=filepath_model,save_weights_only=False,monitor=monitor,mode='auto',save_best_only=True)\n",
    "    reduce_lr_callback = tensorflow.keras.callbacks.ReduceLROnPlateau(monitor = monitor,factor = 0.5,patience = 5,verbose = 1,min_delta = 0.0001)\n",
    "    csv_callback= tensorflow.keras.callbacks.CSVLogger('train.log')\n",
    "    return [model_checkpoint_callback,reduce_lr_callback,csv_callback]"
   ]
  },
  {
   "cell_type": "markdown",
   "metadata": {},
   "source": [
    "## Generators"
   ]
  },
  {
   "cell_type": "code",
   "execution_count": 14,
   "metadata": {},
   "outputs": [],
   "source": [
    "def create_generators(size=(68,68),\\\n",
    "                      train_images_directory ='',\\\n",
    "                      validation_images_directory='',\\\n",
    "                      batch_size =32) :\n",
    "\n",
    "\n",
    "    train_images_generator = ImageDataGenerator(rescale=1/255.0)\n",
    "    validation_images_generator = ImageDataGenerator(rescale=1/255.0)\n",
    "\n",
    "    train_generator = train_images_generator.flow_from_directory(\n",
    "                    train_images_directory,\n",
    "                    target_size = (size[0],size[1]),\n",
    "                    batch_size  = batch_size ,\n",
    "                    color_mode  = 'grayscale' , \n",
    "                    class_mode  = 'categorical' ,\n",
    "                    shuffle     = True\n",
    "                                                                )\n",
    "\n",
    "    validation_generator = train_images_generator.flow_from_directory(\n",
    "                    validation_images_directory,\n",
    "                    target_size = (size[0],size[1]),\n",
    "                    batch_size  = batch_size ,\n",
    "                    color_mode  = 'grayscale' , \n",
    "                    class_mode  = 'categorical' ,\n",
    "                    shuffle     = True\n",
    "                                                            )\n",
    "    return train_generator ,validation_generator"
   ]
  },
  {
   "cell_type": "markdown",
   "metadata": {},
   "source": [
    "## Wrap up"
   ]
  },
  {
   "cell_type": "code",
   "execution_count": 24,
   "metadata": {},
   "outputs": [
    {
     "name": "stdout",
     "output_type": "stream",
     "text": [
      "Found 28709 images belonging to 7 classes.\n",
      "Found 3589 images belonging to 7 classes.\n"
     ]
    }
   ],
   "source": [
    "train_generator,validation_generator = create_generators(size=(68,68),\\\n",
    "                                                         train_images_directory ='train_euc',\\\n",
    "                                                         validation_images_directory='validation_euc',\\\n",
    "                                                         batch_size =32 )"
   ]
  },
  {
   "cell_type": "code",
   "execution_count": 25,
   "metadata": {},
   "outputs": [],
   "source": [
    "train_count  = 28709\n",
    "validation_count= 3589\n",
    "batch_size = 32"
   ]
  },
  {
   "cell_type": "code",
   "execution_count": 31,
   "metadata": {},
   "outputs": [
    {
     "name": "stdout",
     "output_type": "stream",
     "text": [
      "Epoch 1/100\n",
      "897/897 [==============================] - 17s 19ms/step - loss: 1.7237 - accuracy: 0.3100 - val_loss: 1.6466 - val_accuracy: 0.3527\n",
      "Epoch 2/100\n",
      "897/897 [==============================] - 16s 18ms/step - loss: 1.5440 - accuracy: 0.4030 - val_loss: 1.6273 - val_accuracy: 0.3912\n",
      "Epoch 3/100\n",
      "897/897 [==============================] - 16s 18ms/step - loss: 1.4979 - accuracy: 0.4271 - val_loss: 118.0558 - val_accuracy: 0.1155\n",
      "Epoch 4/100\n",
      "897/897 [==============================] - 16s 18ms/step - loss: 13.8134 - accuracy: 0.2925 - val_loss: 1.5697 - val_accuracy: 0.3803\n",
      "Epoch 5/100\n",
      "897/897 [==============================] - 16s 18ms/step - loss: 1.4230 - accuracy: 0.4572 - val_loss: 1.5954 - val_accuracy: 0.3708\n",
      "Epoch 6/100\n",
      "897/897 [==============================] - 16s 18ms/step - loss: 1.4155 - accuracy: 0.4558 - val_loss: 1.5959 - val_accuracy: 0.3982\n",
      "Epoch 7/100\n",
      "897/897 [==============================] - 16s 18ms/step - loss: 1.3993 - accuracy: 0.4634 - val_loss: 1.6175 - val_accuracy: 0.4049\n",
      "Epoch 8/100\n",
      "897/897 [==============================] - 17s 18ms/step - loss: 1.4132 - accuracy: 0.4569 - val_loss: 1.5874 - val_accuracy: 0.4065\n",
      "Epoch 9/100\n",
      "897/897 [==============================] - 16s 18ms/step - loss: 1.3911 - accuracy: 0.4715 - val_loss: 1.5820 - val_accuracy: 0.3912\n",
      "Epoch 10/100\n",
      "897/897 [==============================] - 16s 18ms/step - loss: 1.3865 - accuracy: 0.4685 - val_loss: 1.5628 - val_accuracy: 0.3758\n",
      "Epoch 11/100\n",
      "897/897 [==============================] - 16s 18ms/step - loss: 1.3968 - accuracy: 0.4629 - val_loss: 1.6335 - val_accuracy: 0.4035\n",
      "Epoch 12/100\n",
      "897/897 [==============================] - 16s 18ms/step - loss: 1.3849 - accuracy: 0.4730 - val_loss: 1.5762 - val_accuracy: 0.3940\n",
      "Epoch 13/100\n",
      "897/897 [==============================] - 16s 18ms/step - loss: 1.3813 - accuracy: 0.4705 - val_loss: 1.6857 - val_accuracy: 0.3862\n",
      "\n",
      "Epoch 00013: ReduceLROnPlateau reducing learning rate to 0.0005000000237487257.\n",
      "Epoch 14/100\n",
      "897/897 [==============================] - 16s 18ms/step - loss: 1.3212 - accuracy: 0.4976 - val_loss: 1.6130 - val_accuracy: 0.3973\n",
      "Epoch 15/100\n",
      "897/897 [==============================] - 17s 18ms/step - loss: 1.2898 - accuracy: 0.5113 - val_loss: 1.5666 - val_accuracy: 0.4018\n",
      "Epoch 16/100\n",
      "897/897 [==============================] - 16s 18ms/step - loss: 1.2816 - accuracy: 0.5161 - val_loss: 1.6372 - val_accuracy: 0.4062\n",
      "Epoch 17/100\n",
      "897/897 [==============================] - 16s 18ms/step - loss: 1.2647 - accuracy: 0.5198 - val_loss: 1.6007 - val_accuracy: 0.4107\n",
      "Epoch 18/100\n",
      "897/897 [==============================] - 16s 18ms/step - loss: 1.2555 - accuracy: 0.5231 - val_loss: 1.6043 - val_accuracy: 0.4093\n",
      "Epoch 19/100\n",
      "897/897 [==============================] - 17s 18ms/step - loss: 1.2423 - accuracy: 0.5281 - val_loss: 1.7301 - val_accuracy: 0.3800\n",
      "Epoch 20/100\n",
      "897/897 [==============================] - 16s 18ms/step - loss: 1.2230 - accuracy: 0.5400 - val_loss: 1.6949 - val_accuracy: 0.3722\n",
      "Epoch 21/100\n",
      "897/897 [==============================] - 16s 18ms/step - loss: 1.2162 - accuracy: 0.5426 - val_loss: 1.6826 - val_accuracy: 0.3903\n",
      "Epoch 22/100\n",
      "897/897 [==============================] - 16s 18ms/step - loss: 1.2182 - accuracy: 0.5365 - val_loss: 1.7053 - val_accuracy: 0.4093\n",
      "\n",
      "Epoch 00022: ReduceLROnPlateau reducing learning rate to 0.0002500000118743628.\n",
      "Epoch 23/100\n",
      "897/897 [==============================] - 16s 18ms/step - loss: 1.1694 - accuracy: 0.5610 - val_loss: 1.6815 - val_accuracy: 0.4129\n",
      "Epoch 24/100\n",
      "897/897 [==============================] - 16s 18ms/step - loss: 1.1443 - accuracy: 0.5676 - val_loss: 1.6622 - val_accuracy: 0.3979\n",
      "Epoch 25/100\n",
      "897/897 [==============================] - 16s 18ms/step - loss: 1.1415 - accuracy: 0.5695 - val_loss: 1.6473 - val_accuracy: 0.4185\n",
      "Epoch 26/100\n",
      "897/897 [==============================] - 16s 18ms/step - loss: 1.1425 - accuracy: 0.5687 - val_loss: 1.7202 - val_accuracy: 0.4127\n",
      "Epoch 27/100\n",
      "897/897 [==============================] - 16s 18ms/step - loss: 1.1286 - accuracy: 0.5771 - val_loss: 1.7436 - val_accuracy: 0.4043\n",
      "Epoch 28/100\n",
      "897/897 [==============================] - 16s 18ms/step - loss: 1.1261 - accuracy: 0.5799 - val_loss: 1.7193 - val_accuracy: 0.3990\n",
      "Epoch 29/100\n",
      "897/897 [==============================] - 17s 19ms/step - loss: 1.1198 - accuracy: 0.5828 - val_loss: 1.7939 - val_accuracy: 0.4023\n",
      "Epoch 30/100\n",
      "897/897 [==============================] - 16s 18ms/step - loss: 1.1104 - accuracy: 0.5809 - val_loss: 1.8006 - val_accuracy: 0.4021\n",
      "\n",
      "Epoch 00030: ReduceLROnPlateau reducing learning rate to 0.0001250000059371814.\n",
      "Epoch 31/100\n",
      "897/897 [==============================] - 16s 18ms/step - loss: 1.0886 - accuracy: 0.5922 - val_loss: 1.8112 - val_accuracy: 0.4074\n",
      "Epoch 32/100\n",
      "897/897 [==============================] - 16s 18ms/step - loss: 1.0689 - accuracy: 0.6036 - val_loss: 1.7990 - val_accuracy: 0.4143\n",
      "Epoch 33/100\n",
      "897/897 [==============================] - 16s 18ms/step - loss: 1.0712 - accuracy: 0.6008 - val_loss: 1.8390 - val_accuracy: 0.4012\n",
      "Epoch 34/100\n",
      "897/897 [==============================] - 17s 18ms/step - loss: 1.0736 - accuracy: 0.5975 - val_loss: 1.8253 - val_accuracy: 0.4074\n",
      "Epoch 35/100\n",
      "897/897 [==============================] - 17s 18ms/step - loss: 1.0629 - accuracy: 0.6055 - val_loss: 1.8598 - val_accuracy: 0.4032\n",
      "\n",
      "Epoch 00035: ReduceLROnPlateau reducing learning rate to 6.25000029685907e-05.\n",
      "Epoch 36/100\n",
      "897/897 [==============================] - 16s 18ms/step - loss: 1.0473 - accuracy: 0.6128 - val_loss: 1.8255 - val_accuracy: 0.4093\n",
      "Epoch 37/100\n",
      "897/897 [==============================] - 16s 18ms/step - loss: 1.0395 - accuracy: 0.6105 - val_loss: 1.8555 - val_accuracy: 0.4057\n",
      "Epoch 38/100\n",
      "897/897 [==============================] - 16s 18ms/step - loss: 1.0319 - accuracy: 0.6191 - val_loss: 1.8288 - val_accuracy: 0.4026\n",
      "Epoch 39/100\n",
      "897/897 [==============================] - 16s 18ms/step - loss: 1.0308 - accuracy: 0.6178 - val_loss: 1.8632 - val_accuracy: 0.4029\n",
      "Epoch 40/100\n",
      "897/897 [==============================] - 17s 18ms/step - loss: 1.0308 - accuracy: 0.6166 - val_loss: 1.8678 - val_accuracy: 0.4079\n",
      "\n",
      "Epoch 00040: ReduceLROnPlateau reducing learning rate to 3.125000148429535e-05.\n",
      "Epoch 41/100\n",
      "897/897 [==============================] - 16s 18ms/step - loss: 1.0188 - accuracy: 0.6239 - val_loss: 1.8806 - val_accuracy: 0.4004\n",
      "Epoch 42/100\n",
      "897/897 [==============================] - 16s 18ms/step - loss: 1.0132 - accuracy: 0.6233 - val_loss: 1.9095 - val_accuracy: 0.4004\n",
      "Epoch 43/100\n",
      "897/897 [==============================] - 16s 18ms/step - loss: 1.0223 - accuracy: 0.6209 - val_loss: 1.8850 - val_accuracy: 0.4012\n",
      "Epoch 44/100\n",
      "897/897 [==============================] - 16s 18ms/step - loss: 1.0234 - accuracy: 0.6190 - val_loss: 1.9165 - val_accuracy: 0.4032\n",
      "Epoch 45/100\n",
      "897/897 [==============================] - 16s 18ms/step - loss: 1.0093 - accuracy: 0.6264 - val_loss: 1.9138 - val_accuracy: 0.4001\n",
      "\n",
      "Epoch 00045: ReduceLROnPlateau reducing learning rate to 1.5625000742147677e-05.\n",
      "Epoch 46/100\n",
      "897/897 [==============================] - 17s 18ms/step - loss: 1.0077 - accuracy: 0.6291 - val_loss: 1.9106 - val_accuracy: 0.4021\n",
      "Epoch 47/100\n",
      "897/897 [==============================] - 17s 18ms/step - loss: 1.0090 - accuracy: 0.6257 - val_loss: 1.9360 - val_accuracy: 0.4043\n",
      "Epoch 48/100\n",
      "897/897 [==============================] - 16s 18ms/step - loss: 1.0052 - accuracy: 0.6283 - val_loss: 1.9417 - val_accuracy: 0.3990\n",
      "Epoch 49/100\n",
      "897/897 [==============================] - 17s 18ms/step - loss: 1.0027 - accuracy: 0.6302 - val_loss: 1.9356 - val_accuracy: 0.4035\n",
      "Epoch 50/100\n",
      "897/897 [==============================] - 17s 19ms/step - loss: 0.9986 - accuracy: 0.6319 - val_loss: 1.9457 - val_accuracy: 0.4007\n",
      "\n",
      "Epoch 00050: ReduceLROnPlateau reducing learning rate to 7.812500371073838e-06.\n",
      "Epoch 51/100\n",
      "897/897 [==============================] - 16s 18ms/step - loss: 0.9960 - accuracy: 0.6298 - val_loss: 1.9433 - val_accuracy: 0.4007\n",
      "Epoch 52/100\n",
      "897/897 [==============================] - 17s 18ms/step - loss: 0.9934 - accuracy: 0.6336 - val_loss: 1.9558 - val_accuracy: 0.4009\n",
      "Epoch 53/100\n",
      "897/897 [==============================] - 17s 18ms/step - loss: 0.9935 - accuracy: 0.6321 - val_loss: 1.9667 - val_accuracy: 0.3982\n",
      "Epoch 54/100\n",
      "897/897 [==============================] - 16s 18ms/step - loss: 0.9904 - accuracy: 0.6359 - val_loss: 1.9608 - val_accuracy: 0.3987\n",
      "Epoch 55/100\n",
      "897/897 [==============================] - 16s 18ms/step - loss: 0.9991 - accuracy: 0.6284 - val_loss: 1.9707 - val_accuracy: 0.4004\n",
      "\n",
      "Epoch 00055: ReduceLROnPlateau reducing learning rate to 3.906250185536919e-06.\n",
      "Epoch 56/100\n",
      "897/897 [==============================] - 16s 18ms/step - loss: 0.9869 - accuracy: 0.6360 - val_loss: 1.9652 - val_accuracy: 0.3984\n",
      "Epoch 57/100\n",
      "897/897 [==============================] - 16s 18ms/step - loss: 0.9830 - accuracy: 0.6358 - val_loss: 1.9760 - val_accuracy: 0.3956\n",
      "Epoch 58/100\n",
      "897/897 [==============================] - 16s 18ms/step - loss: 0.9811 - accuracy: 0.6362 - val_loss: 1.9615 - val_accuracy: 0.3987\n",
      "Epoch 59/100\n",
      "897/897 [==============================] - 16s 18ms/step - loss: 0.9790 - accuracy: 0.6396 - val_loss: 1.9813 - val_accuracy: 0.3987\n",
      "Epoch 60/100\n",
      "897/897 [==============================] - 16s 18ms/step - loss: 0.9825 - accuracy: 0.6417 - val_loss: 1.9772 - val_accuracy: 0.3984\n",
      "\n",
      "Epoch 00060: ReduceLROnPlateau reducing learning rate to 1.9531250927684596e-06.\n",
      "Epoch 61/100\n",
      "897/897 [==============================] - 16s 18ms/step - loss: 0.9977 - accuracy: 0.6314 - val_loss: 1.9692 - val_accuracy: 0.3976\n",
      "Epoch 62/100\n",
      "897/897 [==============================] - 17s 18ms/step - loss: 0.9934 - accuracy: 0.6287 - val_loss: 1.9796 - val_accuracy: 0.3993\n",
      "Epoch 63/100\n",
      "897/897 [==============================] - 16s 18ms/step - loss: 1.0022 - accuracy: 0.6264 - val_loss: 1.9813 - val_accuracy: 0.3984\n",
      "Epoch 64/100\n",
      "897/897 [==============================] - 16s 18ms/step - loss: 0.9801 - accuracy: 0.6372 - val_loss: 1.9843 - val_accuracy: 0.3982\n",
      "Epoch 65/100\n",
      "897/897 [==============================] - 16s 18ms/step - loss: 0.9944 - accuracy: 0.6300 - val_loss: 1.9741 - val_accuracy: 0.3990\n",
      "\n",
      "Epoch 00065: ReduceLROnPlateau reducing learning rate to 9.765625463842298e-07.\n",
      "Epoch 66/100\n",
      "897/897 [==============================] - 16s 18ms/step - loss: 0.9893 - accuracy: 0.6325 - val_loss: 1.9802 - val_accuracy: 0.3998\n",
      "Epoch 67/100\n",
      "897/897 [==============================] - 17s 18ms/step - loss: 0.9840 - accuracy: 0.6372 - val_loss: 1.9823 - val_accuracy: 0.3968\n",
      "Epoch 68/100\n",
      "897/897 [==============================] - 16s 18ms/step - loss: 0.9904 - accuracy: 0.6356 - val_loss: 1.9833 - val_accuracy: 0.3973\n",
      "Epoch 69/100\n",
      "897/897 [==============================] - 16s 18ms/step - loss: 0.9899 - accuracy: 0.6343 - val_loss: 1.9827 - val_accuracy: 0.3993\n",
      "Epoch 70/100\n",
      "897/897 [==============================] - 16s 18ms/step - loss: 0.9974 - accuracy: 0.6279 - val_loss: 1.9837 - val_accuracy: 0.3965\n",
      "\n",
      "Epoch 00070: ReduceLROnPlateau reducing learning rate to 4.882812731921149e-07.\n",
      "Epoch 71/100\n",
      "897/897 [==============================] - 16s 18ms/step - loss: 0.9877 - accuracy: 0.6352 - val_loss: 1.9835 - val_accuracy: 0.3970\n",
      "Epoch 72/100\n",
      "897/897 [==============================] - 16s 18ms/step - loss: 0.9799 - accuracy: 0.6398 - val_loss: 1.9844 - val_accuracy: 0.3959\n",
      "Epoch 73/100\n",
      "897/897 [==============================] - 16s 18ms/step - loss: 0.9763 - accuracy: 0.6389 - val_loss: 1.9857 - val_accuracy: 0.3968\n",
      "Epoch 74/100\n",
      "897/897 [==============================] - 16s 18ms/step - loss: 0.9895 - accuracy: 0.6366 - val_loss: 1.9863 - val_accuracy: 0.3979\n",
      "Epoch 75/100\n",
      "897/897 [==============================] - 16s 18ms/step - loss: 0.9879 - accuracy: 0.6357 - val_loss: 1.9829 - val_accuracy: 0.3996\n",
      "\n",
      "Epoch 00075: ReduceLROnPlateau reducing learning rate to 2.4414063659605745e-07.\n",
      "Epoch 76/100\n",
      "897/897 [==============================] - 16s 18ms/step - loss: 0.9835 - accuracy: 0.6360 - val_loss: 1.9871 - val_accuracy: 0.3976\n",
      "Epoch 77/100\n",
      "897/897 [==============================] - 16s 18ms/step - loss: 0.9870 - accuracy: 0.6371 - val_loss: 1.9882 - val_accuracy: 0.3965\n",
      "Epoch 78/100\n",
      "897/897 [==============================] - 16s 18ms/step - loss: 0.9849 - accuracy: 0.6331 - val_loss: 1.9880 - val_accuracy: 0.3970\n",
      "Epoch 79/100\n",
      "897/897 [==============================] - 16s 18ms/step - loss: 0.9815 - accuracy: 0.6368 - val_loss: 1.9873 - val_accuracy: 0.3965\n",
      "Epoch 80/100\n",
      "897/897 [==============================] - 16s 18ms/step - loss: 0.9905 - accuracy: 0.6316 - val_loss: 1.9869 - val_accuracy: 0.3970\n",
      "\n",
      "Epoch 00080: ReduceLROnPlateau reducing learning rate to 1.2207031829802872e-07.\n",
      "Epoch 81/100\n",
      "897/897 [==============================] - 16s 18ms/step - loss: 0.9747 - accuracy: 0.6430 - val_loss: 1.9881 - val_accuracy: 0.3970\n",
      "Epoch 82/100\n",
      "897/897 [==============================] - 16s 18ms/step - loss: 0.9795 - accuracy: 0.6402 - val_loss: 1.9895 - val_accuracy: 0.3968\n",
      "Epoch 83/100\n",
      "897/897 [==============================] - 16s 18ms/step - loss: 0.9935 - accuracy: 0.6330 - val_loss: 1.9868 - val_accuracy: 0.3976\n",
      "Epoch 84/100\n",
      "897/897 [==============================] - 16s 18ms/step - loss: 0.9869 - accuracy: 0.6328 - val_loss: 1.9874 - val_accuracy: 0.3968\n",
      "Epoch 85/100\n",
      "897/897 [==============================] - 16s 18ms/step - loss: 0.9760 - accuracy: 0.6394 - val_loss: 1.9881 - val_accuracy: 0.3965\n",
      "\n",
      "Epoch 00085: ReduceLROnPlateau reducing learning rate to 6.103515914901436e-08.\n",
      "Epoch 86/100\n",
      "897/897 [==============================] - 16s 18ms/step - loss: 0.9850 - accuracy: 0.6378 - val_loss: 1.9860 - val_accuracy: 0.3973\n",
      "Epoch 87/100\n",
      "897/897 [==============================] - 16s 18ms/step - loss: 0.9841 - accuracy: 0.6400 - val_loss: 1.9814 - val_accuracy: 0.3973\n",
      "Epoch 88/100\n",
      "897/897 [==============================] - 17s 19ms/step - loss: 0.9861 - accuracy: 0.6348 - val_loss: 1.9884 - val_accuracy: 0.3965\n",
      "Epoch 89/100\n",
      "897/897 [==============================] - 16s 18ms/step - loss: 0.9814 - accuracy: 0.6389 - val_loss: 1.9882 - val_accuracy: 0.3965\n",
      "Epoch 90/100\n",
      "897/897 [==============================] - 16s 18ms/step - loss: 0.9830 - accuracy: 0.6361 - val_loss: 1.9879 - val_accuracy: 0.3968\n",
      "\n",
      "Epoch 00090: ReduceLROnPlateau reducing learning rate to 3.051757957450718e-08.\n",
      "Epoch 91/100\n",
      "897/897 [==============================] - 16s 18ms/step - loss: 0.9915 - accuracy: 0.6352 - val_loss: 1.9882 - val_accuracy: 0.3965\n",
      "Epoch 92/100\n",
      "897/897 [==============================] - 16s 18ms/step - loss: 0.9962 - accuracy: 0.6338 - val_loss: 1.9871 - val_accuracy: 0.3970\n",
      "Epoch 93/100\n",
      "897/897 [==============================] - 17s 18ms/step - loss: 0.9824 - accuracy: 0.6387 - val_loss: 1.9808 - val_accuracy: 0.3970\n",
      "Epoch 94/100\n",
      "897/897 [==============================] - 16s 18ms/step - loss: 0.9806 - accuracy: 0.6390 - val_loss: 1.9877 - val_accuracy: 0.3968\n",
      "Epoch 95/100\n",
      "897/897 [==============================] - 16s 18ms/step - loss: 0.9898 - accuracy: 0.6358 - val_loss: 1.9852 - val_accuracy: 0.3973\n",
      "\n",
      "Epoch 00095: ReduceLROnPlateau reducing learning rate to 1.525878978725359e-08.\n",
      "Epoch 96/100\n",
      "897/897 [==============================] - 16s 18ms/step - loss: 0.9808 - accuracy: 0.6362 - val_loss: 1.9861 - val_accuracy: 0.3968\n",
      "Epoch 97/100\n",
      "897/897 [==============================] - 16s 18ms/step - loss: 0.9832 - accuracy: 0.6362 - val_loss: 1.9885 - val_accuracy: 0.3965\n",
      "Epoch 98/100\n",
      "897/897 [==============================] - 16s 18ms/step - loss: 0.9826 - accuracy: 0.6355 - val_loss: 1.9874 - val_accuracy: 0.3965\n",
      "Epoch 99/100\n",
      "897/897 [==============================] - 17s 18ms/step - loss: 0.9811 - accuracy: 0.6367 - val_loss: 1.9883 - val_accuracy: 0.3965\n",
      "Epoch 100/100\n",
      "897/897 [==============================] - 16s 18ms/step - loss: 0.9833 - accuracy: 0.6369 - val_loss: 1.9847 - val_accuracy: 0.3970\n",
      "\n",
      "Epoch 00100: ReduceLROnPlateau reducing learning rate to 7.629394893626795e-09.\n"
     ]
    },
    {
     "data": {
      "text/plain": [
       "<tensorflow.python.keras.callbacks.History at 0x7f8fd125f668>"
      ]
     },
     "execution_count": 31,
     "metadata": {},
     "output_type": "execute_result"
    }
   ],
   "source": [
    "model = build_model()\n",
    "callbacks= create_callbacks(filepath_model=f'euc-model-29-11.h5')\n",
    "model.fit(\n",
    "            train_generator,\n",
    "            steps_per_epoch = train_count //batch_size,\n",
    "            epochs = 100,\n",
    "            callbacks = callbacks,\n",
    "            validation_data=validation_generator,\n",
    "            validation_steps = validation_count//batch_size\n",
    "        )"
   ]
  },
  {
   "cell_type": "code",
   "execution_count": 43,
   "metadata": {},
   "outputs": [
    {
     "name": "stdout",
     "output_type": "stream",
     "text": [
      "--2020-11-28 19:44:15--  https://www.pngkey.com/png/detail/108-1089836_baby-crying-png-background-image-sad-face-human.png\n",
      "Resolving www.pngkey.com (www.pngkey.com)... 204.12.208.124\n",
      "Connecting to www.pngkey.com (www.pngkey.com)|204.12.208.124|:443... connected.\n",
      "HTTP request sent, awaiting response... 200 OK\n",
      "Length: 102663 (100K) [image/png]\n",
      "Saving to: ‘108-1089836_baby-crying-png-background-image-sad-face-human.png’\n",
      "\n",
      "108-1089836_baby-cr 100%[===================>] 100.26K   465KB/s    in 0.2s    \n",
      "\n",
      "2020-11-28 19:44:16 (465 KB/s) - ‘108-1089836_baby-crying-png-background-image-sad-face-human.png’ saved [102663/102663]\n",
      "\n"
     ]
    }
   ],
   "source": [
    "!wget \"https://www.pngkey.com/png/detail/108-1089836_baby-crying-png-background-image-sad-face-human.png\""
   ]
  },
  {
   "cell_type": "code",
   "execution_count": 136,
   "metadata": {},
   "outputs": [],
   "source": [
    "def pipeline(image,detector,predictor,model):\n",
    "    '''\n",
    "    input : image \n",
    "    output : emotion\n",
    "    '''\n",
    "    crop , features = image_to_crop_feature(image,dim=(68,68),detector=detector,predictor=predictor)\n",
    "    euclid = create_euclid_matrix(features)\n",
    "    predictions = model.predict(euclid[0]/255.0)\n",
    "    return transform_integer_to_emotion(np.argmax(predictions))"
   ]
  },
  {
   "cell_type": "code",
   "execution_count": 142,
   "metadata": {},
   "outputs": [
    {
     "data": {
      "text/plain": [
       "'hap'"
      ]
     },
     "execution_count": 142,
     "metadata": {},
     "output_type": "execute_result"
    }
   ],
   "source": [
    "pipeline(cv2.imread('test3.jpg'),detector=detector,predictor=predictor,model=model)"
   ]
  },
  {
   "cell_type": "markdown",
   "metadata": {},
   "source": [
    "## Test image"
   ]
  },
  {
   "cell_type": "code",
   "execution_count": 150,
   "metadata": {
    "scrolled": true
   },
   "outputs": [
    {
     "data": {
      "image/png": "[encoded data removed]",
      "text/plain": [
       "<Figure size 1080x1080 with 3 Axes>"
      ]
     },
     "metadata": {
      "needs_background": "light"
     },
     "output_type": "display_data"
    }
   ],
   "source": [
    "img = cv2.imread('test3.jpg')\n",
    "crop , features = image_to_crop_feature(img,dim=(68,68),detector=detector,predictor=predictor)\n",
    "euclid = create_euclid_matrix(features)\n",
    "\n",
    "plt.figure(figsize=(15,15))\n",
    "plt.subplot(1,3,1);plt.imshow(euclid[0,0,:,:,0]/255);plt.title(\"input image to model\")\n",
    "plt.subplot(1,3,2);plt.imshow(np.flip(img,2));plt.title(\" Original image\")\n",
    "plt.subplot(1,3,3);plt.imshow(np.flip(features_to_image(crop.copy(),features),2));plt.title(\"Cropped image with landmarks\")\n",
    "plt.savefig('demo.png')"
   ]
  },
  {
   "cell_type": "code",
   "execution_count": 125,
   "metadata": {},
   "outputs": [
    {
     "name": "stdout",
     "output_type": "stream",
     "text": [
      "113/113 [==============================] - 2s 16ms/step - loss: 1.9871 - accuracy: 0.3968\n"
     ]
    },
    {
     "data": {
      "text/plain": [
       "[1.9870843887329102, 0.39676791429519653]"
      ]
     },
     "execution_count": 125,
     "metadata": {},
     "output_type": "execute_result"
    }
   ],
   "source": [
    "model.evaluate(validation_generator)"
   ]
  },
  {
   "cell_type": "code",
   "execution_count": 126,
   "metadata": {},
   "outputs": [
    {
     "name": "stdout",
     "output_type": "stream",
     "text": [
      "898/898 [==============================] - 15s 16ms/step - loss: 0.9815 - accuracy: 0.6372\n"
     ]
    },
    {
     "data": {
      "text/plain": [
       "[0.98145991563797, 0.6372217535972595]"
      ]
     },
     "execution_count": 126,
     "metadata": {},
     "output_type": "execute_result"
    }
   ],
   "source": [
    "model.evaluate(train_generator)"
   ]
  }
 ],
 "metadata": {
  "kernelspec": {
   "display_name": "Python 3",
   "language": "python",
   "name": "python3"
  },
  "language_info": {
   "codemirror_mode": {
    "name": "ipython",
    "version": 3
   },
   "file_extension": ".py",
   "mimetype": "text/x-python",
   "name": "python",
   "nbconvert_exporter": "python",
   "pygments_lexer": "ipython3",
   "version": "3.6.9"
  }
 },
 "nbformat": 4,
 "nbformat_minor": 4
}
